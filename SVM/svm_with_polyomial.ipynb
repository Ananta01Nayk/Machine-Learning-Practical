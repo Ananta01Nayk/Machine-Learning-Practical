{
 "cells": [
  {
   "cell_type": "code",
   "execution_count": null,
   "metadata": {},
   "outputs": [],
   "source": [
    "#import required library\n",
    "from sklearn.datasets import make_moons\n",
    "from sklearn.preprocessing import PolynomialFeatures\n",
    "from sklearn.svm import LinearSVC\n",
    "from sklearn.preprocessing import StandardScaler\n",
    "from sklearn.pipeline import make_pipeline"
   ]
  },
  {
   "cell_type": "code",
   "execution_count": null,
   "metadata": {},
   "outputs": [],
   "source": [
    "#create x,y dataset and create model\n",
    "X,y = make_moons(n_samples=100,noise=1.5,random_state=43)\n",
    "\n",
    "\n",
    "\n",
    "Poly_svc_clf = make_pipeline(\n",
    "    PolynomialFeatures(degree=3),\n",
    "    StandardScaler(),\n",
    "    LinearSVC(C=10,max_iter=10_1000,random_state=42)\n",
    ")\n",
    "Poly_svc_clf.fit(X,y)"
   ]
  },
  {
   "cell_type": "code",
   "execution_count": null,
   "metadata": {},
   "outputs": [],
   "source": [
    "#predict and create new dummy data set\n",
    "X_new = [[5.5, 1.7], [5.0, 1.5],[4.0,0.3]]\n",
    "Poly_svc_clf.predict(X_new)"
   ]
  },
  {
   "cell_type": "code",
   "execution_count": null,
   "metadata": {},
   "outputs": [],
   "source": [
    "Poly_svc_clf.decision_function(X_new)"
   ]
  }
 ],
 "metadata": {
  "kernelspec": {
   "display_name": "mlflow_1",
   "language": "python",
   "name": "mlflow_1"
  },
  "language_info": {
   "codemirror_mode": {
    "name": "ipython",
    "version": 3
   },
   "file_extension": ".py",
   "mimetype": "text/x-python",
   "name": "python",
   "nbconvert_exporter": "python",
   "pygments_lexer": "ipython3",
   "version": "3.10.14"
  }
 },
 "nbformat": 4,
 "nbformat_minor": 5
}
