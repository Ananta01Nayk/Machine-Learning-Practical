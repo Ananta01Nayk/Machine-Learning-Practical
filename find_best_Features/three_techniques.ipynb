{
 "cells": [
  {
   "cell_type": "code",
   "execution_count": 3,
   "id": "088589c8",
   "metadata": {},
   "outputs": [],
   "source": [
    "# Creating dummy dataset\n",
    "import numpy as np\n",
    "\n",
    "np.random.seed(42)\n",
    "m =100\n",
    "X = 2*np.random.rand(m,1)\n",
    "y = 4 + 3*X +np.random.rand(m,1)"
   ]
  },
  {
   "cell_type": "code",
   "execution_count": 5,
   "id": "fdcce0ce",
   "metadata": {},
   "outputs": [
    {
     "data": {
      "image/png": "[encoded data removed]",
      "text/plain": [
       "<Figure size 640x480 with 1 Axes>"
      ]
     },
     "metadata": {},
     "output_type": "display_data"
    }
   ],
   "source": [
    "#plote graph\n",
    "import matplotlib.pyplot as plt\n",
    "\n",
    "plt.scatter(X,y)\n",
    "plt.xlabel(\"x variable\")\n",
    "plt.ylabel(\"y variable\")\n",
    "plt.show()"
   ]
  },
  {
   "cell_type": "code",
   "execution_count": 6,
   "id": "650c2ae3",
   "metadata": {},
   "outputs": [],
   "source": [
    "from sklearn.preprocessing import add_dummy_feature\n",
    "X_b = add_dummy_feature(X) # add x0 = 1 to each instance\n",
    "theta_best = np.linalg.inv(X_b.T @ X_b) @ X_b.T @ y"
   ]
  },
  {
   "cell_type": "code",
   "execution_count": 7,
   "id": "537c7d0e",
   "metadata": {},
   "outputs": [
    {
     "data": {
      "text/plain": [
       "array([[4.51359766],\n",
       "       [2.98323418]])"
      ]
     },
     "execution_count": 7,
     "metadata": {},
     "output_type": "execute_result"
    }
   ],
   "source": [
    "theta_best"
   ]
  },
  {
   "cell_type": "markdown",
   "id": "1c05d827",
   "metadata": {},
   "source": [
    "# implimenation Batch Gradient Descent"
   ]
  },
  {
   "cell_type": "code",
   "execution_count": 12,
   "id": "7ead65de",
   "metadata": {},
   "outputs": [
    {
     "name": "stdout",
     "output_type": "stream",
     "text": [
      "[[4.51359766]\n",
      " [2.98323418]]\n"
     ]
    }
   ],
   "source": [
    "learnign_rate =0.1\n",
    "m = len(X_b)#instances\n",
    "n_epochs = 1000\n",
    "\n",
    "np.random.seed(42)\n",
    "theta = np.random.rand(2,1)\n",
    "\n",
    "for ephocs in range(n_epochs):\n",
    "\n",
    "    gradient = 2/m*X_b.T@(X_b@theta-y)\n",
    "    theta = theta - learnign_rate*gradient\n",
    "print(theta)\n"
   ]
  },
  {
   "cell_type": "markdown",
   "id": "689692e9",
   "metadata": {},
   "source": [
    "## implimentation Stochastic Gradient Descent"
   ]
  },
  {
   "cell_type": "code",
   "execution_count": 17,
   "id": "09c0e210",
   "metadata": {},
   "outputs": [
    {
     "name": "stdout",
     "output_type": "stream",
     "text": [
      "[[4.52004204]\n",
      " [2.99269792]]\n"
     ]
    }
   ],
   "source": [
    "n_epochs =50\n",
    "t0,t1= 5,50\n",
    "\n",
    "def learnign_chedule(t):\n",
    "    return t0/(t+t1)\n",
    "theta = np.random.rand(2,1)\n",
    "for ephocs in range(n_epochs):\n",
    "    for iteration in range(m):\n",
    "\n",
    "        random_index = np.random.randint(m)\n",
    "        xi =X_b[random_index:random_index+1]\n",
    "        yi = y[random_index:random_index+1]\n",
    "\n",
    "        radiant = 2*xi.T@(xi@theta -yi)\n",
    "        learing_rate =learnign_chedule(ephocs*m +iteration)\n",
    "        theta = theta - learing_rate*radiant\n",
    "print(theta)"
   ]
  },
  {
   "cell_type": "code",
   "execution_count": null,
   "id": "8f6c2af7",
   "metadata": {},
   "outputs": [],
   "source": []
  }
 ],
 "metadata": {
  "kernelspec": {
   "display_name": "mlflow_1",
   "language": "python",
   "name": "mlflow_1"
  },
  "language_info": {
   "codemirror_mode": {
    "name": "ipython",
    "version": 3
   },
   "file_extension": ".py",
   "mimetype": "text/x-python",
   "name": "python",
   "nbconvert_exporter": "python",
   "pygments_lexer": "ipython3",
   "version": "3.10.14"
  }
 },
 "nbformat": 4,
 "nbformat_minor": 5
}
