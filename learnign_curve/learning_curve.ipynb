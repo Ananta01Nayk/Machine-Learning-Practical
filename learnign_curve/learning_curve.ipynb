{
 "cells": [
  {
   "cell_type": "code",
   "execution_count": null,
   "id": "16161fca",
   "metadata": {},
   "outputs": [],
   "source": [
    "# create a polynomia data set\n",
    "import numpy as np\n",
    "\n",
    "m=100\n",
    "x = 6*np.random.rand(m,1)-3\n",
    "y = 0.5*x**2 + 2*x +5 + np.random.rand(m,1) "
   ]
  },
  {
   "cell_type": "code",
   "execution_count": null,
   "id": "5732c259",
   "metadata": {},
   "outputs": [],
   "source": [
    "# ploy in grsph\n",
    "import matplotlib.pyplot as plt\n",
    "plt.scatter(x,y)\n",
    "plt.show()"
   ]
  },
  {
   "cell_type": "code",
   "execution_count": null,
   "id": "a4daf614",
   "metadata": {},
   "outputs": [],
   "source": [
    "from sklearn.preprocessing import PolynomialFeatures\n",
    "\n",
    "ploy_f = PolynomialFeatures(degree=2, include_bias=False)\n",
    "x_ploy_f = ploy_f.fit_transform(x)"
   ]
  },
  {
   "cell_type": "code",
   "execution_count": null,
   "id": "f06123c7",
   "metadata": {},
   "outputs": [],
   "source": [
    "# now use here linear rgresion\n",
    "from sklearn.linear_model import LinearRegression\n",
    "\n",
    "linear_model = LinearRegression()\n",
    "linear_model.fit(x_ploy_f,y)"
   ]
  },
  {
   "cell_type": "code",
   "execution_count": null,
   "id": "980a31d1",
   "metadata": {},
   "outputs": [],
   "source": [
    "linear_model.intercept_,linear_model.coef_"
   ]
  },
  {
   "cell_type": "markdown",
   "id": "df0d9317",
   "metadata": {},
   "source": [
    "# plot liearn curve "
   ]
  },
  {
   "cell_type": "code",
   "execution_count": null,
   "id": "00ff14aa",
   "metadata": {},
   "outputs": [],
   "source": [
    "from sklearn.model_selection import learning_curve\n",
    "train_sizes, train_scores, valid_scores = learning_curve(\n",
    "LinearRegression(), x, y, train_sizes=np.linspace(0.01, 1.0, 40), cv=5,\n",
    "scoring=\"neg_root_mean_squared_error\")\n",
    "train_errors = -train_scores.mean(axis=1)\n",
    "valid_errors = -valid_scores.mean(axis=1)\n",
    "plt.plot(train_sizes, train_errors, \"r-+\", linewidth=2, label=\"train\")\n",
    "plt.plot(train_sizes, valid_errors, \"b-\", linewidth=3, label=\"valid\")\n",
    "[...] # beautify the figure: add labels, axis, grid, and legend\n",
    "plt.show()\n"
   ]
  },
  {
   "cell_type": "code",
   "execution_count": null,
   "id": "c4f24726",
   "metadata": {},
   "outputs": [],
   "source": [
    "from sklearn.pipeline import make_pipeline\n",
    "\n",
    "ploy_model_degree_10 = make_pipeline(\n",
    "    PolynomialFeatures(degree=10,include_bias=False),\n",
    "    LinearRegression()\n",
    ")\n",
    "\n",
    "train_sizes,train_scores,valid_scores = learning_curve( ploy_model_degree_10,x,y, train_sizes=np.linspace(0.01,1,40),cv=4,\n",
    "scoring=\"neg_root_mean_squared_error\")\n",
    "train_errors = -train_scores.mean(axis=1)\n",
    "valid_errors = -valid_scores.mean(axis=1)\n",
    "plt.plot(train_sizes, train_errors, \"r-+\", linewidth=2, label=\"train\")\n",
    "plt.plot(train_sizes, valid_errors, \"b-\", linewidth=3, label=\"valid\")\n",
    "plt.show()"
   ]
  }
 ],
 "metadata": {
  "kernelspec": {
   "display_name": "mlflow_1",
   "language": "python",
   "name": "mlflow_1"
  },
  "language_info": {
   "codemirror_mode": {
    "name": "ipython",
    "version": 3
   },
   "file_extension": ".py",
   "mimetype": "text/x-python",
   "name": "python",
   "nbconvert_exporter": "python",
   "pygments_lexer": "ipython3",
   "version": "3.10.14"
  }
 },
 "nbformat": 4,
 "nbformat_minor": 5
}
